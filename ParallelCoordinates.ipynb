{
 "cells": [
  {
   "cell_type": "code",
   "execution_count": 1,
   "metadata": {
    "collapsed": true
   },
   "outputs": [],
   "source": [
    "import pandas as pd\n",
    "import plotly\n",
    "import plotly.plotly as py\n",
    "import plotly.graph_objs as go"
   ]
  },
  {
   "cell_type": "code",
   "execution_count": 2,
   "metadata": {
    "collapsed": true
   },
   "outputs": [],
   "source": [
    "plotly.tools.set_credentials_file(username='ktollas', api_key='WKzpNqC9jQLu07WmXDtO')"
   ]
  },
  {
   "cell_type": "code",
   "execution_count": 3,
   "metadata": {
    "collapsed": true
   },
   "outputs": [],
   "source": [
    "LOANS = pd.read_csv('../FINAL_loans.csv')"
   ]
  },
  {
   "cell_type": "code",
   "execution_count": 4,
   "metadata": {
    "collapsed": true
   },
   "outputs": [],
   "source": [
    "LOANS['gender_group'] = pd.Categorical(LOANS['gender_group'], categories = ['female', 'female_group', 'mixed_group',\n",
    "                                                                           'male_group', 'male'][::-1], ordered=True)\n",
    "LOANS.sort_values(by=['gender_group'], inplace=True)"
   ]
  },
  {
   "cell_type": "code",
   "execution_count": 5,
   "metadata": {
    "collapsed": true
   },
   "outputs": [],
   "source": [
    "df = LOANS[LOANS['year'] == 2017].copy()"
   ]
  },
  {
   "cell_type": "code",
   "execution_count": 6,
   "metadata": {
    "collapsed": true
   },
   "outputs": [],
   "source": [
    "df = df[(df['gender_group'] == 'female') | (df['gender_group'] == 'male')]\n",
    "str_cols = df.select_dtypes(include='object').columns\n",
    "for c in str_cols:\n",
    "    df[c] = pd.Categorical(df[c], categories = sorted(list(df[c].unique())), ordered=True)\n",
    "    df[c + '_cat'] = df[c].cat.codes\n",
    "df['gender_cat'] = df['gender_group'].cat.codes"
   ]
  },
  {
   "cell_type": "code",
   "execution_count": 12,
   "metadata": {
    "collapsed": true
   },
   "outputs": [],
   "source": [
    "from pandas.api.types import is_numeric_dtype\n",
    "ranges = {}\n",
    "for c in df.columns:\n",
    "    if is_numeric_dtype(df[c]):\n",
    "        ranges[c] = [max(0,df[c].min() - 1), df[c].max() + 1]"
   ]
  },
  {
   "cell_type": "code",
   "execution_count": 15,
   "metadata": {},
   "outputs": [
    {
     "data": {
      "text/html": [
       "<iframe id=\"igraph\" scrolling=\"no\" style=\"border:none;\" seamless=\"seamless\" src=\"https://plot.ly/~ktollas/68.embed\" height=\"525px\" width=\"100%\"></iframe>"
      ],
      "text/plain": [
       "<plotly.tools.PlotlyDisplay object>"
      ]
     },
     "execution_count": 15,
     "metadata": {},
     "output_type": "execute_result"
    }
   ],
   "source": [
    "data = [\n",
    "    go.Parcoords(\n",
    "        line = dict(color = df['gender_cat'],\n",
    "                    colorscale = [[0,'#377eb8'], [1,'#e41a1c']]),\n",
    "        dimensions = list([\n",
    "            dict(range = ranges['loan_amount'],\n",
    "                label = 'Loan Amount', values = df['loan_amount']),\n",
    "#             dict(range = ranges['year'],\n",
    "#                 label = 'Year', values = df['year']),\n",
    "            dict(range = ranges['term_in_months'],\n",
    "                label = 'Loan Term (months)', values = df['term_in_months']),\n",
    "            dict(range = ranges['status_cat'],\n",
    "                 tickvals = [0,1],\n",
    "                 label = 'Loan Status', values = df['status_cat'],\n",
    "                 ticktext = list(df['status'].unique())),\n",
    "            dict(range = ranges['gender_cat'],\n",
    "                 tickvals = [0,4],\n",
    "                 label = 'Gender', values = df['gender_cat'],\n",
    "                 ticktext = list(df['gender_group'].unique())),\n",
    "            \n",
    "#             dict(range = ranges['activity_cat'],\n",
    "#                  tickvals = [1, 163],\n",
    "#                  label = 'Activity', values = df['activity_cat'],\n",
    "#                  ticktext = list(df['activity'].unique())),\n",
    "            dict(range = ranges['sector_cat'],\n",
    "                 tickvals = [0,1,2,3,4,5,6,7,8,9,10,11,12,13,14],\n",
    "                 label = 'Sector', values = df['sector_cat'],\n",
    "                 ticktext = sorted(list(df['sector'].unique()))),\n",
    "#             dict(range = ranges['country_name_cat'],\n",
    "#                  tickvals = [1, 89],\n",
    "#                  label = 'Country', values = df['country_name_cat'],\n",
    "#                  ticktext = list(df['country_name'].unique())),\n",
    "            dict(range = ranges['region_cat'],\n",
    "                 tickvals = [0,1,2,3,4,5,6,7],\n",
    "                 label = 'Region', values = df['region_cat'],\n",
    "                 ticktext = list(df['region'].unique()))\n",
    "        ])\n",
    "    )\n",
    "]\n",
    "\n",
    "# layout = go.Layout(\n",
    "#     plot_bgcolor = '#E5E5E5',\n",
    "#     paper_bgcolor = '#E5E5E5'\n",
    "# )\n",
    "\n",
    "layout = go.Layout(title='Loan Characteristics by Gender for 2017')\n",
    "fig = go.Figure(data = data, layout = layout)\n",
    "py.iplot(fig, filename = 'parcoords-kiva')"
   ]
  },
  {
   "cell_type": "code",
   "execution_count": null,
   "metadata": {
    "collapsed": true
   },
   "outputs": [],
   "source": [
    "# tabs\n",
    "\n",
    "import plotly.plotly as py\n",
    "import plotly.graph_objs as go\n",
    "from plotly.tools import FigureFactory as FF\n",
    "\n",
    "import json\n",
    "import numpy as np\n",
    "import pandas as pd\n",
    "\n",
    "df = pd.read_csv('https://raw.githubusercontent.com/plotly/datasets/master/volcano.csv')\n",
    "\n",
    "data = [go.Surface(z=df.values.tolist(), colorscale='Viridis')]\n",
    "\n",
    "layout = go.Layout(\n",
    "    width=800,\n",
    "    height=900,\n",
    "    autosize=False,\n",
    "    margin=dict(t=0, b=0, l=0, r=0),\n",
    "    scene=dict(\n",
    "        xaxis=dict(\n",
    "            gridcolor='rgb(255, 255, 255)',\n",
    "            zerolinecolor='rgb(255, 255, 255)',\n",
    "            showbackground=True,\n",
    "            backgroundcolor='rgb(230, 230,230)'\n",
    "        ),\n",
    "        yaxis=dict(\n",
    "            gridcolor='rgb(255, 255, 255)',\n",
    "            zerolinecolor='rgb(255, 255, 255)',\n",
    "            showbackground=True,\n",
    "            backgroundcolor='rgb(230, 230, 230)'\n",
    "        ),\n",
    "        zaxis=dict(\n",
    "            gridcolor='rgb(255, 255, 255)',\n",
    "            zerolinecolor='rgb(255, 255, 255)',\n",
    "            showbackground=True,\n",
    "            backgroundcolor='rgb(230, 230,230)'\n",
    "        ),\n",
    "        aspectratio = dict(x=1, y=1, z=0.7),\n",
    "        aspectmode = 'manual'\n",
    "    )\n",
    ")\n",
    "\n",
    "updatemenus=list([\n",
    "    dict(\n",
    "        buttons=list([   \n",
    "            dict(\n",
    "                args=['type', 'surface'],\n",
    "                label='3D Surface',\n",
    "                method='restyle'\n",
    "            ),\n",
    "            dict(\n",
    "                args=['type', 'heatmap'],\n",
    "                label='Heatmap',\n",
    "                method='restyle'\n",
    "            )             \n",
    "        ]),\n",
    "        direction = 'down',\n",
    "        pad = {'r': 10, 't': 10},\n",
    "        showactive = True,\n",
    "        x = 0.1,\n",
    "        xanchor = 'left',\n",
    "        y = 1.1,\n",
    "        yanchor = 'top' \n",
    "    ),\n",
    "])\n",
    "\n",
    "annotations = list([\n",
    "    dict(text='Trace type:', x=0, y=1.085, yref='paper', align='left', showarrow=False)\n",
    "])\n",
    "layout['updatemenus'] = updatemenus\n",
    "layout['annotations'] = annotations\n",
    "\n",
    "fig = dict(data=data, layout=layout)\n",
    "py.iplot(fig, filename='cmocean-picker-one-dropdown')"
   ]
  }
 ],
 "metadata": {
  "kernelspec": {
   "display_name": "Python 3",
   "language": "python",
   "name": "python3"
  },
  "language_info": {
   "codemirror_mode": {
    "name": "ipython",
    "version": 3
   },
   "file_extension": ".py",
   "mimetype": "text/x-python",
   "name": "python",
   "nbconvert_exporter": "python",
   "pygments_lexer": "ipython3",
   "version": "3.6.5"
  }
 },
 "nbformat": 4,
 "nbformat_minor": 2
}
