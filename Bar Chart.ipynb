{
 "cells": [
  {
   "cell_type": "code",
   "execution_count": 55,
   "metadata": {
    "collapsed": true
   },
   "outputs": [],
   "source": [
    "import pandas as pd\n",
    "import plotly\n",
    "import plotly.plotly as py\n",
    "import plotly.graph_objs as go\n",
    "from plotly.grid_objs import Grid, Column\n",
    "plotly.tools.set_credentials_file(username='t2liu', api_key='lTbNwAyxLOCeOxmJCVtX')"
   ]
  },
  {
   "cell_type": "code",
   "execution_count": 142,
   "metadata": {
    "collapsed": true
   },
   "outputs": [],
   "source": [
    "df = pd.read_csv('loans_FINAL.csv')"
   ]
  },
  {
   "cell_type": "code",
   "execution_count": 143,
   "metadata": {},
   "outputs": [
    {
     "data": {
      "text/html": [
       "<div>\n",
       "<style>\n",
       "    .dataframe thead tr:only-child th {\n",
       "        text-align: right;\n",
       "    }\n",
       "\n",
       "    .dataframe thead th {\n",
       "        text-align: left;\n",
       "    }\n",
       "\n",
       "    .dataframe tbody tr th {\n",
       "        vertical-align: top;\n",
       "    }\n",
       "</style>\n",
       "<table border=\"1\" class=\"dataframe\">\n",
       "  <thead>\n",
       "    <tr style=\"text-align: right;\">\n",
       "      <th></th>\n",
       "      <th>gender_group</th>\n",
       "      <th>loan_amount</th>\n",
       "      <th>status</th>\n",
       "      <th>activity</th>\n",
       "      <th>sector</th>\n",
       "      <th>country_name</th>\n",
       "      <th>year</th>\n",
       "      <th>term_in_months</th>\n",
       "      <th>region</th>\n",
       "      <th>lender_count</th>\n",
       "      <th>month</th>\n",
       "    </tr>\n",
       "  </thead>\n",
       "  <tbody>\n",
       "    <tr>\n",
       "      <th>0</th>\n",
       "      <td>female</td>\n",
       "      <td>125.0</td>\n",
       "      <td>funded</td>\n",
       "      <td>General Store</td>\n",
       "      <td>Retail</td>\n",
       "      <td>Philippines</td>\n",
       "      <td>2014</td>\n",
       "      <td>7.0</td>\n",
       "      <td>Asia</td>\n",
       "      <td>3</td>\n",
       "      <td>1</td>\n",
       "    </tr>\n",
       "    <tr>\n",
       "      <th>1</th>\n",
       "      <td>female</td>\n",
       "      <td>400.0</td>\n",
       "      <td>funded</td>\n",
       "      <td>Used Clothing</td>\n",
       "      <td>Clothing</td>\n",
       "      <td>Honduras</td>\n",
       "      <td>2014</td>\n",
       "      <td>8.0</td>\n",
       "      <td>Central America</td>\n",
       "      <td>11</td>\n",
       "      <td>1</td>\n",
       "    </tr>\n",
       "    <tr>\n",
       "      <th>2</th>\n",
       "      <td>female</td>\n",
       "      <td>400.0</td>\n",
       "      <td>funded</td>\n",
       "      <td>General Store</td>\n",
       "      <td>Retail</td>\n",
       "      <td>Pakistan</td>\n",
       "      <td>2014</td>\n",
       "      <td>14.0</td>\n",
       "      <td>Asia</td>\n",
       "      <td>16</td>\n",
       "      <td>1</td>\n",
       "    </tr>\n",
       "    <tr>\n",
       "      <th>3</th>\n",
       "      <td>female</td>\n",
       "      <td>625.0</td>\n",
       "      <td>funded</td>\n",
       "      <td>Farming</td>\n",
       "      <td>Agriculture</td>\n",
       "      <td>Kyrgyzstan</td>\n",
       "      <td>2014</td>\n",
       "      <td>14.0</td>\n",
       "      <td>Asia</td>\n",
       "      <td>21</td>\n",
       "      <td>1</td>\n",
       "    </tr>\n",
       "    <tr>\n",
       "      <th>4</th>\n",
       "      <td>male</td>\n",
       "      <td>425.0</td>\n",
       "      <td>funded</td>\n",
       "      <td>Farming</td>\n",
       "      <td>Agriculture</td>\n",
       "      <td>Philippines</td>\n",
       "      <td>2014</td>\n",
       "      <td>7.0</td>\n",
       "      <td>Asia</td>\n",
       "      <td>15</td>\n",
       "      <td>1</td>\n",
       "    </tr>\n",
       "  </tbody>\n",
       "</table>\n",
       "</div>"
      ],
      "text/plain": [
       "  gender_group  loan_amount  status       activity       sector country_name  \\\n",
       "0       female        125.0  funded  General Store       Retail  Philippines   \n",
       "1       female        400.0  funded  Used Clothing     Clothing     Honduras   \n",
       "2       female        400.0  funded  General Store       Retail     Pakistan   \n",
       "3       female        625.0  funded        Farming  Agriculture   Kyrgyzstan   \n",
       "4         male        425.0  funded        Farming  Agriculture  Philippines   \n",
       "\n",
       "   year  term_in_months           region  lender_count  month  \n",
       "0  2014             7.0             Asia             3      1  \n",
       "1  2014             8.0  Central America            11      1  \n",
       "2  2014            14.0             Asia            16      1  \n",
       "3  2014            14.0             Asia            21      1  \n",
       "4  2014             7.0             Asia            15      1  "
      ]
     },
     "execution_count": 143,
     "metadata": {},
     "output_type": "execute_result"
    }
   ],
   "source": [
    "df.head()"
   ]
  },
  {
   "cell_type": "code",
   "execution_count": 144,
   "metadata": {},
   "outputs": [
    {
     "data": {
      "text/plain": [
       "2017"
      ]
     },
     "execution_count": 144,
     "metadata": {},
     "output_type": "execute_result"
    }
   ],
   "source": [
    "df.year.max()"
   ]
  },
  {
   "cell_type": "code",
   "execution_count": 145,
   "metadata": {
    "collapsed": true
   },
   "outputs": [],
   "source": [
    "# male & female only\n",
    "df2 = df.query('gender_group == \"female\" or gender_group == \"male\"')"
   ]
  },
  {
   "cell_type": "code",
   "execution_count": 146,
   "metadata": {},
   "outputs": [
    {
     "data": {
      "text/plain": [
       "(864795, 11)"
      ]
     },
     "execution_count": 146,
     "metadata": {},
     "output_type": "execute_result"
    }
   ],
   "source": [
    "df2.shape"
   ]
  },
  {
   "cell_type": "markdown",
   "metadata": {},
   "source": [
    "## Grouped Bar Chart"
   ]
  },
  {
   "cell_type": "code",
   "execution_count": 147,
   "metadata": {
    "collapsed": true
   },
   "outputs": [],
   "source": [
    "df_female = df2.query('gender_group == \"female\"')\n",
    "avg_female = list(df_female.groupby('year')['loan_amount'].mean())"
   ]
  },
  {
   "cell_type": "code",
   "execution_count": 148,
   "metadata": {
    "collapsed": true
   },
   "outputs": [],
   "source": [
    "df_male = df2.query('gender_group == \"male\"')\n",
    "avg_male = list(df_male.groupby('year')['loan_amount'].mean())"
   ]
  },
  {
   "cell_type": "code",
   "execution_count": 149,
   "metadata": {
    "collapsed": true
   },
   "outputs": [],
   "source": [
    "year = list(df2.year.unique())"
   ]
  },
  {
   "cell_type": "code",
   "execution_count": 150,
   "metadata": {},
   "outputs": [
    {
     "data": {
      "text/plain": [
       "gender_group  year\n",
       "female        2012     647.913980\n",
       "              2013     647.284646\n",
       "              2014     614.360913\n",
       "              2015     606.630803\n",
       "              2016     590.942163\n",
       "              2017     553.432103\n",
       "male          2012     914.550101\n",
       "              2013    1066.486977\n",
       "              2014     894.906293\n",
       "              2015     936.848503\n",
       "              2016     911.790973\n",
       "              2017     850.197859\n",
       "Name: loan_amount, dtype: float64"
      ]
     },
     "execution_count": 150,
     "metadata": {},
     "output_type": "execute_result"
    }
   ],
   "source": [
    "df2.groupby(['gender_group', 'year'])['loan_amount'].mean()"
   ]
  },
  {
   "cell_type": "code",
   "execution_count": 151,
   "metadata": {},
   "outputs": [
    {
     "name": "stdout",
     "output_type": "stream",
     "text": [
      "High five! You successfully sent some data to your account on plotly. View your plot in your browser at https://plot.ly/~t2liu/0 or inside your plot.ly account where it is named 'grouped-bar'\n"
     ]
    },
    {
     "data": {
      "text/html": [
       "<iframe id=\"igraph\" scrolling=\"no\" style=\"border:none;\" seamless=\"seamless\" src=\"https://plot.ly/~t2liu/0.embed\" height=\"525px\" width=\"100%\"></iframe>"
      ],
      "text/plain": [
       "<plotly.tools.PlotlyDisplay object>"
      ]
     },
     "execution_count": 151,
     "metadata": {},
     "output_type": "execute_result"
    }
   ],
   "source": [
    "trace1_female = go.Bar(\n",
    "    x=year,\n",
    "    y=avg_female,\n",
    "    name='Female',\n",
    "    marker=dict(color='rgb(228,26,28)')\n",
    ")\n",
    "trace2_male = go.Bar(\n",
    "    x=year,\n",
    "    y=avg_male,\n",
    "    name='Male',\n",
    "    marker=dict(color='rgb(55,126,184)')\n",
    ")\n",
    "\n",
    "data = [trace1_female, trace2_male]\n",
    "layout = go.Layout(\n",
    "    barmode='group',\n",
    "    title='Average Kiva Loan Amounts'\n",
    ")\n",
    "\n",
    "fig = go.Figure(data=data, layout=layout)\n",
    "py.iplot(fig, filename='grouped-bar')"
   ]
  },
  {
   "cell_type": "code",
   "execution_count": null,
   "metadata": {
    "collapsed": true
   },
   "outputs": [],
   "source": []
  }
 ],
 "metadata": {
  "kernelspec": {
   "display_name": "Python 3",
   "language": "python",
   "name": "python3"
  },
  "language_info": {
   "codemirror_mode": {
    "name": "ipython",
    "version": 3
   },
   "file_extension": ".py",
   "mimetype": "text/x-python",
   "name": "python",
   "nbconvert_exporter": "python",
   "pygments_lexer": "ipython3",
   "version": "3.6.1"
  }
 },
 "nbformat": 4,
 "nbformat_minor": 2
}
