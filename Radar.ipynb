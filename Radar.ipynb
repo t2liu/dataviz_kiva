{
 "cells": [
  {
   "cell_type": "code",
   "execution_count": 1,
   "metadata": {},
   "outputs": [],
   "source": [
    "import pandas as pd\n",
    "import plotly\n",
    "import plotly.plotly as py\n",
    "import plotly.graph_objs as go"
   ]
  },
  {
   "cell_type": "code",
   "execution_count": 2,
   "metadata": {},
   "outputs": [],
   "source": [
    "plotly.tools.set_credentials_file(username='ktollas', api_key='WKzpNqC9jQLu07WmXDtO')"
   ]
  },
  {
   "cell_type": "code",
   "execution_count": 3,
   "metadata": {},
   "outputs": [],
   "source": [
    "df = pd.read_csv('../FINAL_loans.csv')\n",
    "df = df[df['gender_group'].isin(['female', 'male'])]"
   ]
  },
  {
   "cell_type": "code",
   "execution_count": 5,
   "metadata": {},
   "outputs": [],
   "source": [
    "gender_sector = df.groupby(['gender_group', 'sector'])['loan_amount'].mean().reset_index()\n",
    "gender_sector['p'] = (gender_sector['loan_amount']/gender_sector['loan_amount'].sum()).round(3)\n",
    "gender_sector.to_csv('../gender_sector.csv')"
   ]
  },
  {
   "cell_type": "code",
   "execution_count": 6,
   "metadata": {},
   "outputs": [],
   "source": [
    "gender_activity = df.groupby(['gender_group', 'activity'])['loan_amount'].mean().reset_index()\n",
    "gender_activity['p'] = (gender_activity['loan_amount']/gender_activity['loan_amount'].sum()).round(3)\n",
    "gender_activity.to_csv('../gender_activity.csv')"
   ]
  },
  {
   "cell_type": "code",
   "execution_count": 7,
   "metadata": {},
   "outputs": [],
   "source": [
    "region_avg = df.groupby('region')['loan_amount'].mean().reset_index()\n",
    "region_avg['loan_amount_$'] = '$' + region_avg['loan_amount'].round(2).astype(str)"
   ]
  },
  {
   "cell_type": "code",
   "execution_count": 17,
   "metadata": {},
   "outputs": [],
   "source": [
    "region_gender_avg = df.groupby(['region', 'gender_group'])['loan_amount'].mean().reset_index()\n",
    "region_gender_avg['loan_amount_$'] = '$' + region_gender_avg['loan_amount'].round(2).astype(str)"
   ]
  },
  {
   "cell_type": "code",
   "execution_count": 28,
   "metadata": {},
   "outputs": [
    {
     "data": {
      "text/html": [
       "<iframe id=\"igraph\" scrolling=\"no\" style=\"border:none;\" seamless=\"seamless\" src=\"https://plot.ly/~ktollas/73.embed\" height=\"525px\" width=\"100%\"></iframe>"
      ],
      "text/plain": [
       "<plotly.tools.PlotlyDisplay object>"
      ]
     },
     "execution_count": 28,
     "metadata": {},
     "output_type": "execute_result"
    }
   ],
   "source": [
    "male_df = region_gender_avg.loc[region_gender_avg['gender_group'] == 'male', :]\n",
    "female_df = region_gender_avg.loc[region_gender_avg['gender_group'] == 'female', :]\n",
    "\n",
    "data = [\n",
    "go.Scatterpolar(\n",
    "    r = female_df['loan_amount'],\n",
    "    theta = female_df['region'],\n",
    "    fill = 'toself',\n",
    "    text = female_df['loan_amount_$'],\n",
    "    marker = dict(color = '#e41a1c'),\n",
    "    hoverinfo='text',\n",
    "    name = 'Female'\n",
    "),\n",
    "go.Scatterpolar(\n",
    "    r = male_df['loan_amount'],\n",
    "    theta = male_df['region'],\n",
    "    fill = 'toself',\n",
    "    text = male_df['loan_amount_$'],\n",
    "    marker = dict(color = '#377eb8'),\n",
    "    hoverinfo='text',\n",
    "    name = 'Male'\n",
    ")\n",
    "]\n",
    "\n",
    "layout = go.Layout(\n",
    "  polar = dict(\n",
    "    radialaxis = dict(\n",
    "      visible = True,\n",
    "      range = [0, region_gender_avg['loan_amount'].max()]\n",
    "    )\n",
    "  ),\n",
    "#   showlegend = False\n",
    ")\n",
    "\n",
    "fig = go.Figure(data=data, layout=layout)\n",
    "py.iplot(fig, filename = \"radar_basic\")"
   ]
  },
  {
   "cell_type": "code",
   "execution_count": null,
   "metadata": {},
   "outputs": [],
   "source": []
  }
 ],
 "metadata": {
  "kernelspec": {
   "display_name": "Python 3",
   "language": "python",
   "name": "python3"
  },
  "language_info": {
   "codemirror_mode": {
    "name": "ipython",
    "version": 3
   },
   "file_extension": ".py",
   "mimetype": "text/x-python",
   "name": "python",
   "nbconvert_exporter": "python",
   "pygments_lexer": "ipython3",
   "version": "3.6.5"
  }
 },
 "nbformat": 4,
 "nbformat_minor": 2
}
