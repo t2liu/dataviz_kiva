{
 "cells": [
  {
   "cell_type": "markdown",
   "metadata": {},
   "source": [
    "## Data Preprocessing\n",
    "\n",
    "Using `loans.csv` from http://s3.kiva.org/snapshots/kiva_ds_csv.zip (found at http://build.kiva.org)\n",
    "\n",
    "Only want after 2010. \n",
    "\n",
    "** Features ** \n",
    "\n",
    "- `loan_amount` \n",
    "- `status`: loans that are funded or expired\n",
    "- `sector`\n",
    "- `country_name`\n",
    "- `borrower_genders`\n",
    "\n",
    "Writes the final dataframe as `../loans_mini.csv`"
   ]
  },
  {
   "cell_type": "code",
   "execution_count": 1,
   "metadata": {
    "collapsed": true
   },
   "outputs": [],
   "source": [
    "import pandas as pd\n",
    "from collections import Counter"
   ]
  },
  {
   "cell_type": "code",
   "execution_count": 2,
   "metadata": {
    "collapsed": true
   },
   "outputs": [],
   "source": [
    "LOANS = pd.read_csv('../loans.csv', parse_dates = ['posted_time'])"
   ]
  },
  {
   "cell_type": "code",
   "execution_count": 3,
   "metadata": {},
   "outputs": [
    {
     "name": "stdout",
     "output_type": "stream",
     "text": [
      "first loan: 2007-01-01 06:41:49\n"
     ]
    }
   ],
   "source": [
    "loans = LOANS[LOANS['posted_time'].dt.year >= 2007].copy()\n",
    "loans.sort_values('posted_time', inplace=True)\n",
    "print('first loan: {}'.format(loans['posted_time'].min()))\n",
    "loans = loans[['borrower_genders', 'loan_amount', 'sector', 'country_name', 'status']]  # cols\n",
    "loans = loans[(loans['status'] == 'funded') | (loans['status'] == 'expired')]  # rows\n",
    "loans.dropna(subset=['borrower_genders'], inplace=True)  # not interested in rows where gender is missing\n",
    "loans.reset_index(drop=True,inplace=True)"
   ]
  },
  {
   "cell_type": "code",
   "execution_count": 9,
   "metadata": {},
   "outputs": [
    {
     "data": {
      "text/html": [
       "<div>\n",
       "<style scoped>\n",
       "    .dataframe tbody tr th:only-of-type {\n",
       "        vertical-align: middle;\n",
       "    }\n",
       "\n",
       "    .dataframe tbody tr th {\n",
       "        vertical-align: top;\n",
       "    }\n",
       "\n",
       "    .dataframe thead th {\n",
       "        text-align: right;\n",
       "    }\n",
       "</style>\n",
       "<table border=\"1\" class=\"dataframe\">\n",
       "  <thead>\n",
       "    <tr style=\"text-align: right;\">\n",
       "      <th></th>\n",
       "      <th>borrower_genders</th>\n",
       "      <th>loan_amount</th>\n",
       "      <th>sector</th>\n",
       "      <th>country_name</th>\n",
       "      <th>status</th>\n",
       "    </tr>\n",
       "  </thead>\n",
       "  <tbody>\n",
       "    <tr>\n",
       "      <th>0</th>\n",
       "      <td>female</td>\n",
       "      <td>950.0</td>\n",
       "      <td>Food</td>\n",
       "      <td>Togo</td>\n",
       "      <td>funded</td>\n",
       "    </tr>\n",
       "    <tr>\n",
       "      <th>1</th>\n",
       "      <td>female</td>\n",
       "      <td>750.0</td>\n",
       "      <td>Food</td>\n",
       "      <td>Togo</td>\n",
       "      <td>funded</td>\n",
       "    </tr>\n",
       "    <tr>\n",
       "      <th>2</th>\n",
       "      <td>male</td>\n",
       "      <td>850.0</td>\n",
       "      <td>Retail</td>\n",
       "      <td>Togo</td>\n",
       "      <td>funded</td>\n",
       "    </tr>\n",
       "    <tr>\n",
       "      <th>3</th>\n",
       "      <td>female</td>\n",
       "      <td>950.0</td>\n",
       "      <td>Services</td>\n",
       "      <td>Togo</td>\n",
       "      <td>funded</td>\n",
       "    </tr>\n",
       "    <tr>\n",
       "      <th>4</th>\n",
       "      <td>female</td>\n",
       "      <td>800.0</td>\n",
       "      <td>Food</td>\n",
       "      <td>Togo</td>\n",
       "      <td>funded</td>\n",
       "    </tr>\n",
       "  </tbody>\n",
       "</table>\n",
       "</div>"
      ],
      "text/plain": [
       "  borrower_genders  loan_amount    sector country_name  status\n",
       "0           female        950.0      Food         Togo  funded\n",
       "1           female        750.0      Food         Togo  funded\n",
       "2             male        850.0    Retail         Togo  funded\n",
       "3           female        950.0  Services         Togo  funded\n",
       "4           female        800.0      Food         Togo  funded"
      ]
     },
     "execution_count": 9,
     "metadata": {},
     "output_type": "execute_result"
    }
   ],
   "source": [
    "loans.head()"
   ]
  },
  {
   "cell_type": "code",
   "execution_count": 4,
   "metadata": {
    "collapsed": true
   },
   "outputs": [],
   "source": [
    "def genders_groups(x):\n",
    "    x = x.split(', ')\n",
    "    if len(x) == 1:\n",
    "        return x[0]\n",
    "    else:\n",
    "        genders = Counter(x).keys()\n",
    "        if 'female' in genders and 'male' not in genders:\n",
    "            return 'female_group'\n",
    "        elif 'female' in genders and 'male' in genders:\n",
    "            return 'mixed_group'\n",
    "        else:\n",
    "            return 'male_group'"
   ]
  },
  {
   "cell_type": "code",
   "execution_count": 5,
   "metadata": {
    "collapsed": true
   },
   "outputs": [],
   "source": [
    "loans['gender_group'] = loans['borrower_genders'].map(genders_groups)\n",
    "loans.drop('borrower_genders', axis=1, inplace=True)\n",
    "loans.to_csv('../loans_mini.csv', index=False)"
   ]
  },
  {
   "cell_type": "code",
   "execution_count": 7,
   "metadata": {
    "collapsed": true
   },
   "outputs": [],
   "source": []
  },
  {
   "cell_type": "code",
   "execution_count": null,
   "metadata": {
    "collapsed": true
   },
   "outputs": [],
   "source": []
  },
  {
   "cell_type": "code",
   "execution_count": null,
   "metadata": {
    "collapsed": true
   },
   "outputs": [],
   "source": []
  },
  {
   "cell_type": "code",
   "execution_count": null,
   "metadata": {
    "collapsed": true
   },
   "outputs": [],
   "source": []
  },
  {
   "cell_type": "code",
   "execution_count": null,
   "metadata": {
    "collapsed": true
   },
   "outputs": [],
   "source": []
  },
  {
   "cell_type": "code",
   "execution_count": null,
   "metadata": {
    "collapsed": true
   },
   "outputs": [],
   "source": []
  },
  {
   "cell_type": "code",
   "execution_count": null,
   "metadata": {
    "collapsed": true
   },
   "outputs": [],
   "source": []
  }
 ],
 "metadata": {
  "kernelspec": {
   "display_name": "Python 3",
   "language": "python",
   "name": "python3"
  },
  "language_info": {
   "codemirror_mode": {
    "name": "ipython",
    "version": 3
   },
   "file_extension": ".py",
   "mimetype": "text/x-python",
   "name": "python",
   "nbconvert_exporter": "python",
   "pygments_lexer": "ipython3",
   "version": "3.6.1"
  }
 },
 "nbformat": 4,
 "nbformat_minor": 2
}
