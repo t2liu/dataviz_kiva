{
 "cells": [
  {
   "cell_type": "code",
   "execution_count": 1,
   "metadata": {
    "collapsed": true
   },
   "outputs": [],
   "source": [
    "import math\n",
    "import pandas as pd\n",
    "import plotly\n",
    "from plotly import tools\n",
    "import plotly.plotly as py\n",
    "import plotly.graph_objs as go"
   ]
  },
  {
   "cell_type": "code",
   "execution_count": 2,
   "metadata": {
    "collapsed": true
   },
   "outputs": [],
   "source": [
    "plotly.tools.set_credentials_file(username='ktollas', api_key='bV547MNNr7rjyfLnzMDJ')"
   ]
  },
  {
   "cell_type": "code",
   "execution_count": 3,
   "metadata": {
    "collapsed": true
   },
   "outputs": [],
   "source": [
    "df = pd.read_csv('avg_loan_amount_2012-2017_by_country_by_gender.csv')"
   ]
  },
  {
   "cell_type": "code",
   "execution_count": 4,
   "metadata": {
    "collapsed": false
   },
   "outputs": [],
   "source": [
    "d = {}\n",
    "countries = df['country_name'].unique()\n",
    "for i in range(len(countries)):\n",
    "    d['trace{}a'.format(i)] = go.Scatter(\n",
    "    x=df[(df['country_name'] == countries[i]) & (df['gender_group_x'] == 'female')]['year'],\n",
    "    y=df[(df['country_name'] == countries[i]) & (df['gender_group_x'] == 'female')]['loan_amount'],\n",
    "    mode = 'lines+markers', marker = dict(color = '#e41a1c'),\n",
    "    name = countries[i]\n",
    "    )\n",
    "    \n",
    "    d['trace{}b'.format(i)] = go.Scatter(\n",
    "    x=df[(df['country_name'] == countries[i]) & (df['gender_group_x'] == 'male')]['year'],\n",
    "    y=df[(df['country_name'] == countries[i]) & (df['gender_group_x'] == 'male')]['loan_amount'],\n",
    "    mode = 'lines+markers', marker = dict(color = '#377eb8')\n",
    "    )"
   ]
  },
  {
   "cell_type": "code",
   "execution_count": 5,
   "metadata": {
    "collapsed": true
   },
   "outputs": [],
   "source": [
    "def create_loc(i, rows, cols):\n",
    "    return(i // cols + 1, i % cols + 1)"
   ]
  },
  {
   "cell_type": "code",
   "execution_count": 7,
   "metadata": {
    "collapsed": false
   },
   "outputs": [
    {
     "data": {
      "text/plain": [
       "(12, 4)"
      ]
     },
     "execution_count": 7,
     "metadata": {},
     "output_type": "execute_result"
    }
   ],
   "source": [
    "rows = 12\n",
    "cols = 4\n",
    "create_loc(47, rows, cols)"
   ]
  },
  {
   "cell_type": "code",
   "execution_count": 8,
   "metadata": {
    "collapsed": false
   },
   "outputs": [
    {
     "name": "stdout",
     "output_type": "stream",
     "text": [
      "This is the format of your plot grid:\n",
      "[ (1,1) x1,y1 ]     [ (1,2) x2,y2 ]     [ (1,3) x3,y3 ]     [ (1,4) x4,y4 ]   \n",
      "[ (2,1) x5,y5 ]     [ (2,2) x6,y6 ]     [ (2,3) x7,y7 ]     [ (2,4) x8,y8 ]   \n",
      "[ (3,1) x9,y9 ]     [ (3,2) x10,y10 ]   [ (3,3) x11,y11 ]   [ (3,4) x12,y12 ] \n",
      "[ (4,1) x13,y13 ]   [ (4,2) x14,y14 ]   [ (4,3) x15,y15 ]   [ (4,4) x16,y16 ] \n",
      "[ (5,1) x17,y17 ]   [ (5,2) x18,y18 ]   [ (5,3) x19,y19 ]   [ (5,4) x20,y20 ] \n",
      "[ (6,1) x21,y21 ]   [ (6,2) x22,y22 ]   [ (6,3) x23,y23 ]   [ (6,4) x24,y24 ] \n",
      "[ (7,1) x25,y25 ]   [ (7,2) x26,y26 ]   [ (7,3) x27,y27 ]   [ (7,4) x28,y28 ] \n",
      "[ (8,1) x29,y29 ]   [ (8,2) x30,y30 ]   [ (8,3) x31,y31 ]   [ (8,4) x32,y32 ] \n",
      "[ (9,1) x33,y33 ]   [ (9,2) x34,y34 ]   [ (9,3) x35,y35 ]   [ (9,4) x36,y36 ] \n",
      "[ (10,1) x37,y37 ]  [ (10,2) x38,y38 ]  [ (10,3) x39,y39 ]  [ (10,4) x40,y40 ]\n",
      "[ (11,1) x41,y41 ]  [ (11,2) x42,y42 ]  [ (11,3) x43,y43 ]  [ (11,4) x44,y44 ]\n",
      "[ (12,1) x45,y45 ]  [ (12,2) x46,y46 ]  [ (12,3) x47,y47 ]  [ (12,4) x48,y48 ]\n",
      "\n"
     ]
    },
    {
     "data": {
      "text/html": [
       "<iframe id=\"igraph\" scrolling=\"no\" style=\"border:none;\" seamless=\"seamless\" src=\"https://plot.ly/~ktollas/66.embed\" height=\"600px\" width=\"600px\"></iframe>"
      ],
      "text/plain": [
       "<plotly.tools.PlotlyDisplay object>"
      ]
     },
     "execution_count": 8,
     "metadata": {},
     "output_type": "execute_result"
    }
   ],
   "source": [
    "fig = tools.make_subplots(rows=rows, cols=cols)\n",
    "\n",
    "for i in range(len(countries)):\n",
    "    fig.append_trace(d['trace{}a'.format(i)], i // rows + 1, i % cols + 1)\n",
    "    fig.append_trace(d['trace{}b'.format(i)], i // rows + 1, i % cols + 1)\n",
    "\n",
    "fig['layout'].update(height=600, width=600, title='Yearly average loan amounts for women and men by country', showlegend=False)\n",
    "py.iplot(fig, filename='simple-subplot')"
   ]
  },
  {
   "cell_type": "code",
   "execution_count": null,
   "metadata": {
    "collapsed": true
   },
   "outputs": [],
   "source": []
  }
 ],
 "metadata": {
  "kernelspec": {
   "display_name": "Python [default]",
   "language": "python",
   "name": "python3"
  },
  "language_info": {
   "codemirror_mode": {
    "name": "ipython",
    "version": 3
   },
   "file_extension": ".py",
   "mimetype": "text/x-python",
   "name": "python",
   "nbconvert_exporter": "python",
   "pygments_lexer": "ipython3",
   "version": "3.5.2"
  }
 },
 "nbformat": 4,
 "nbformat_minor": 2
}
