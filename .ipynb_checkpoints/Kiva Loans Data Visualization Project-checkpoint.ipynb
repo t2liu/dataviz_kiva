{
 "cells": [
  {
   "cell_type": "markdown",
   "metadata": {},
   "source": [
    "# Women and loan requests\n",
    "\n",
    "*Using `loans.csv` from http://s3.kiva.org/snapshots/kiva_ds_csv.zip (found at http://build.kiva.org)*\n",
    "\n",
    "Goal: Visualize how much women request for loans compared to men/others"
   ]
  },
  {
   "cell_type": "code",
   "execution_count": 1,
   "metadata": {
    "collapsed": true
   },
   "outputs": [],
   "source": [
    "import pandas as pd\n",
    "from collections import Counter"
   ]
  },
  {
   "cell_type": "code",
   "execution_count": 2,
   "metadata": {},
   "outputs": [],
   "source": [
    "LOANS = pd.read_csv('../loans.csv', parse_dates = ['posted_time'])"
   ]
  },
  {
   "cell_type": "markdown",
   "metadata": {},
   "source": [
    "## Data Preprocessing\n",
    "Only want after 2010 \n",
    "\n",
    "** Features ** \n",
    "\n",
    "- `loan_amount` \n",
    "- `status`: loans that are funded or expired\n",
    "- `sector`\n",
    "- `country_name`\n",
    "- `borrower_genders`"
   ]
  },
  {
   "cell_type": "code",
   "execution_count": 3,
   "metadata": {},
   "outputs": [
    {
     "name": "stdout",
     "output_type": "stream",
     "text": [
      "first loan: 2010-01-01 00:26:40\n"
     ]
    }
   ],
   "source": [
    "loans = LOANS[LOANS['posted_time'].dt.year >= 2010].copy()\n",
    "loans.sort_values('posted_time', inplace=True)\n",
    "print('first loan: {}'.format(loans['posted_time'].min()))\n",
    "loans = loans[['borrower_genders', 'loan_amount', 'sector', 'country_name', 'status']]  # cols\n",
    "loans = loans[(loans['status'] == 'funded') | (loans['status'] == 'expired')]  # rows\n",
    "loans.dropna(subset=['borrower_genders'], inplace=True)  # not interested in rows where gender is missing\n",
    "loans.reset_index(drop=True,inplace=True)"
   ]
  },
  {
   "cell_type": "code",
   "execution_count": 4,
   "metadata": {
    "collapsed": true
   },
   "outputs": [],
   "source": [
    "def genders_groups(x):\n",
    "    x = x.split(', ')\n",
    "    if len(x) == 1:\n",
    "        return x[0]\n",
    "    else:\n",
    "        genders = Counter(x).keys()\n",
    "        if 'female' in genders and 'male' not in genders:\n",
    "            return 'female_group'\n",
    "        elif 'female' in genders and 'male' in genders:\n",
    "            return 'mixed_group'\n",
    "        else:\n",
    "            return 'male_group'"
   ]
  },
  {
   "cell_type": "code",
   "execution_count": 5,
   "metadata": {
    "collapsed": true
   },
   "outputs": [],
   "source": [
    "loans['gender_group'] = loans['borrower_genders'].map(genders_groups)\n",
    "loans.drop('borrower_genders', axis=1, inplace=True)\n",
    "loans.to_csv('../loans_mini.csv', index=False)"
   ]
  },
  {
   "cell_type": "code",
   "execution_count": 6,
   "metadata": {},
   "outputs": [
    {
     "data": {
      "text/html": [
       "<div>\n",
       "<style scoped>\n",
       "    .dataframe tbody tr th:only-of-type {\n",
       "        vertical-align: middle;\n",
       "    }\n",
       "\n",
       "    .dataframe tbody tr th {\n",
       "        vertical-align: top;\n",
       "    }\n",
       "\n",
       "    .dataframe thead th {\n",
       "        text-align: right;\n",
       "    }\n",
       "</style>\n",
       "<table border=\"1\" class=\"dataframe\">\n",
       "  <thead>\n",
       "    <tr style=\"text-align: right;\">\n",
       "      <th></th>\n",
       "      <th>loan_amount</th>\n",
       "      <th>sector</th>\n",
       "      <th>country_name</th>\n",
       "      <th>status</th>\n",
       "      <th>gender_group</th>\n",
       "    </tr>\n",
       "  </thead>\n",
       "  <tbody>\n",
       "    <tr>\n",
       "      <th>0</th>\n",
       "      <td>1825.0</td>\n",
       "      <td>Retail</td>\n",
       "      <td>Peru</td>\n",
       "      <td>funded</td>\n",
       "      <td>mixed_group</td>\n",
       "    </tr>\n",
       "    <tr>\n",
       "      <th>1</th>\n",
       "      <td>2075.0</td>\n",
       "      <td>Agriculture</td>\n",
       "      <td>Peru</td>\n",
       "      <td>funded</td>\n",
       "      <td>mixed_group</td>\n",
       "    </tr>\n",
       "    <tr>\n",
       "      <th>2</th>\n",
       "      <td>2575.0</td>\n",
       "      <td>Retail</td>\n",
       "      <td>Peru</td>\n",
       "      <td>funded</td>\n",
       "      <td>mixed_group</td>\n",
       "    </tr>\n",
       "    <tr>\n",
       "      <th>3</th>\n",
       "      <td>1500.0</td>\n",
       "      <td>Services</td>\n",
       "      <td>Palestine</td>\n",
       "      <td>funded</td>\n",
       "      <td>male</td>\n",
       "    </tr>\n",
       "    <tr>\n",
       "      <th>4</th>\n",
       "      <td>1000.0</td>\n",
       "      <td>Agriculture</td>\n",
       "      <td>Palestine</td>\n",
       "      <td>funded</td>\n",
       "      <td>female</td>\n",
       "    </tr>\n",
       "  </tbody>\n",
       "</table>\n",
       "</div>"
      ],
      "text/plain": [
       "   loan_amount       sector country_name  status gender_group\n",
       "0       1825.0       Retail         Peru  funded  mixed_group\n",
       "1       2075.0  Agriculture         Peru  funded  mixed_group\n",
       "2       2575.0       Retail         Peru  funded  mixed_group\n",
       "3       1500.0     Services    Palestine  funded         male\n",
       "4       1000.0  Agriculture    Palestine  funded       female"
      ]
     },
     "execution_count": 6,
     "metadata": {},
     "output_type": "execute_result"
    }
   ],
   "source": [
    "loans.head()"
   ]
  },
  {
   "cell_type": "code",
   "execution_count": 7,
   "metadata": {
    "collapsed": true
   },
   "outputs": [],
   "source": [
    "f = loans.groupby('gender_group')\n",
    "g = loans.groupby(['sector', 'gender_group'])\n",
    "h = loans.groupby(['gender_group', 'sector'])"
   ]
  },
  {
   "cell_type": "code",
   "execution_count": 8,
   "metadata": {},
   "outputs": [
    {
     "data": {
      "text/plain": [
       "gender_group\n",
       "female           600.715775\n",
       "female_group    1668.887230\n",
       "male             907.032674\n",
       "male_group      1540.738268\n",
       "mixed_group     2092.552552\n",
       "Name: loan_amount, dtype: float64"
      ]
     },
     "execution_count": 8,
     "metadata": {},
     "output_type": "execute_result"
    }
   ],
   "source": [
    "f['loan_amount'].mean()"
   ]
  },
  {
   "cell_type": "code",
   "execution_count": 9,
   "metadata": {},
   "outputs": [
    {
     "data": {
      "text/plain": [
       "gender_group\n",
       "female          422017850.0\n",
       "female_group    171549925.0\n",
       "male            229467475.0\n",
       "male_group        8076550.0\n",
       "mixed_group     125230900.0\n",
       "Name: loan_amount, dtype: float64"
      ]
     },
     "execution_count": 9,
     "metadata": {},
     "output_type": "execute_result"
    }
   ],
   "source": [
    "f['loan_amount'].sum()"
   ]
  },
  {
   "cell_type": "code",
   "execution_count": 10,
   "metadata": {},
   "outputs": [
    {
     "data": {
      "text/plain": [
       "female          702525\n",
       "male            252987\n",
       "female_group    102793\n",
       "mixed_group      59846\n",
       "male_group        5242\n",
       "Name: gender_group, dtype: int64"
      ]
     },
     "execution_count": 10,
     "metadata": {},
     "output_type": "execute_result"
    }
   ],
   "source": [
    "loans['gender_group'].value_counts()"
   ]
  },
  {
   "cell_type": "code",
   "execution_count": null,
   "metadata": {
    "collapsed": true
   },
   "outputs": [],
   "source": []
  },
  {
   "cell_type": "code",
   "execution_count": null,
   "metadata": {
    "collapsed": true
   },
   "outputs": [],
   "source": []
  },
  {
   "cell_type": "code",
   "execution_count": null,
   "metadata": {
    "collapsed": true
   },
   "outputs": [],
   "source": []
  },
  {
   "cell_type": "code",
   "execution_count": null,
   "metadata": {
    "collapsed": true
   },
   "outputs": [],
   "source": []
  }
 ],
 "metadata": {
  "kernelspec": {
   "display_name": "Python 3",
   "language": "python",
   "name": "python3"
  },
  "language_info": {
   "codemirror_mode": {
    "name": "ipython",
    "version": 3
   },
   "file_extension": ".py",
   "mimetype": "text/x-python",
   "name": "python",
   "nbconvert_exporter": "python",
   "pygments_lexer": "ipython3",
   "version": "3.6.5"
  }
 },
 "nbformat": 4,
 "nbformat_minor": 2
}
