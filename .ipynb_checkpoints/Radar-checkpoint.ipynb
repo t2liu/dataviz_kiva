{
 "cells": [
  {
   "cell_type": "code",
   "execution_count": 12,
   "metadata": {
    "collapsed": true
   },
   "outputs": [],
   "source": [
    "import pandas as pd\n",
    "import plotly\n",
    "import plotly.plotly as py\n",
    "import plotly.graph_objs as go"
   ]
  },
  {
   "cell_type": "code",
   "execution_count": 13,
   "metadata": {},
   "outputs": [],
   "source": [
    "plotly.tools.set_credentials_file(username='ktollas', api_key='WKzpNqC9jQLu07WmXDtO')"
   ]
  },
  {
   "cell_type": "code",
   "execution_count": 2,
   "metadata": {
    "collapsed": true
   },
   "outputs": [],
   "source": [
    "df = pd.read_csv('../FINAL_loans.csv')\n",
    "df = df[df['gender_group'].isin(['female', 'male'])]"
   ]
  },
  {
   "cell_type": "code",
   "execution_count": 6,
   "metadata": {},
   "outputs": [
    {
     "data": {
      "text/html": [
       "<div>\n",
       "<style scoped>\n",
       "    .dataframe tbody tr th:only-of-type {\n",
       "        vertical-align: middle;\n",
       "    }\n",
       "\n",
       "    .dataframe tbody tr th {\n",
       "        vertical-align: top;\n",
       "    }\n",
       "\n",
       "    .dataframe thead th {\n",
       "        text-align: right;\n",
       "    }\n",
       "</style>\n",
       "<table border=\"1\" class=\"dataframe\">\n",
       "  <thead>\n",
       "    <tr style=\"text-align: right;\">\n",
       "      <th></th>\n",
       "      <th>gender_group</th>\n",
       "      <th>loan_amount</th>\n",
       "      <th>status</th>\n",
       "      <th>activity</th>\n",
       "      <th>sector</th>\n",
       "      <th>country_name</th>\n",
       "      <th>year</th>\n",
       "      <th>term_in_months</th>\n",
       "      <th>region</th>\n",
       "    </tr>\n",
       "  </thead>\n",
       "  <tbody>\n",
       "    <tr>\n",
       "      <th>0</th>\n",
       "      <td>female</td>\n",
       "      <td>125.0</td>\n",
       "      <td>funded</td>\n",
       "      <td>General Store</td>\n",
       "      <td>Retail</td>\n",
       "      <td>Philippines</td>\n",
       "      <td>2014</td>\n",
       "      <td>7.0</td>\n",
       "      <td>Asia</td>\n",
       "    </tr>\n",
       "    <tr>\n",
       "      <th>1</th>\n",
       "      <td>female</td>\n",
       "      <td>400.0</td>\n",
       "      <td>funded</td>\n",
       "      <td>Used Clothing</td>\n",
       "      <td>Clothing</td>\n",
       "      <td>Honduras</td>\n",
       "      <td>2014</td>\n",
       "      <td>8.0</td>\n",
       "      <td>Central America</td>\n",
       "    </tr>\n",
       "    <tr>\n",
       "      <th>2</th>\n",
       "      <td>female</td>\n",
       "      <td>400.0</td>\n",
       "      <td>funded</td>\n",
       "      <td>General Store</td>\n",
       "      <td>Retail</td>\n",
       "      <td>Pakistan</td>\n",
       "      <td>2014</td>\n",
       "      <td>14.0</td>\n",
       "      <td>Asia</td>\n",
       "    </tr>\n",
       "    <tr>\n",
       "      <th>3</th>\n",
       "      <td>female</td>\n",
       "      <td>625.0</td>\n",
       "      <td>funded</td>\n",
       "      <td>Farming</td>\n",
       "      <td>Agriculture</td>\n",
       "      <td>Kyrgyzstan</td>\n",
       "      <td>2014</td>\n",
       "      <td>14.0</td>\n",
       "      <td>Asia</td>\n",
       "    </tr>\n",
       "    <tr>\n",
       "      <th>4</th>\n",
       "      <td>male</td>\n",
       "      <td>425.0</td>\n",
       "      <td>funded</td>\n",
       "      <td>Farming</td>\n",
       "      <td>Agriculture</td>\n",
       "      <td>Philippines</td>\n",
       "      <td>2014</td>\n",
       "      <td>7.0</td>\n",
       "      <td>Asia</td>\n",
       "    </tr>\n",
       "  </tbody>\n",
       "</table>\n",
       "</div>"
      ],
      "text/plain": [
       "  gender_group  loan_amount  status       activity       sector country_name  \\\n",
       "0       female        125.0  funded  General Store       Retail  Philippines   \n",
       "1       female        400.0  funded  Used Clothing     Clothing     Honduras   \n",
       "2       female        400.0  funded  General Store       Retail     Pakistan   \n",
       "3       female        625.0  funded        Farming  Agriculture   Kyrgyzstan   \n",
       "4         male        425.0  funded        Farming  Agriculture  Philippines   \n",
       "\n",
       "   year  term_in_months           region  \n",
       "0  2014             7.0             Asia  \n",
       "1  2014             8.0  Central America  \n",
       "2  2014            14.0             Asia  \n",
       "3  2014            14.0             Asia  \n",
       "4  2014             7.0             Asia  "
      ]
     },
     "execution_count": 6,
     "metadata": {},
     "output_type": "execute_result"
    }
   ],
   "source": [
    "df.head()"
   ]
  },
  {
   "cell_type": "code",
   "execution_count": 3,
   "metadata": {
    "collapsed": true
   },
   "outputs": [],
   "source": [
    "gender_sector = df.groupby(['gender_group', 'sector'])['loan_amount'].mean().reset_index()\n",
    "gender_sector['p'] = (gender_sector['loan_amount']/gender_sector['loan_amount'].sum()).round(3)\n",
    "gender_sector.to_csv('../gender_sector.csv')"
   ]
  },
  {
   "cell_type": "code",
   "execution_count": 7,
   "metadata": {
    "collapsed": true
   },
   "outputs": [],
   "source": [
    "gender_activity = df.groupby(['gender_group', 'activity'])['loan_amount'].mean().reset_index()\n",
    "gender_activity['p'] = (gender_activity['loan_amount']/gender_activity['loan_amount'].sum()).round(3)\n",
    "gender_activity.to_csv('../gender_activity.csv')"
   ]
  },
  {
   "cell_type": "code",
   "execution_count": 16,
   "metadata": {
    "collapsed": true
   },
   "outputs": [],
   "source": [
    "region_avg = df.groupby('region')['loan_amount'].mean().reset_index()"
   ]
  },
  {
   "cell_type": "code",
   "execution_count": 17,
   "metadata": {},
   "outputs": [
    {
     "data": {
      "text/html": [
       "<div>\n",
       "<style scoped>\n",
       "    .dataframe tbody tr th:only-of-type {\n",
       "        vertical-align: middle;\n",
       "    }\n",
       "\n",
       "    .dataframe tbody tr th {\n",
       "        vertical-align: top;\n",
       "    }\n",
       "\n",
       "    .dataframe thead th {\n",
       "        text-align: right;\n",
       "    }\n",
       "</style>\n",
       "<table border=\"1\" class=\"dataframe\">\n",
       "  <thead>\n",
       "    <tr style=\"text-align: right;\">\n",
       "      <th></th>\n",
       "      <th>region</th>\n",
       "      <th>loan_amount</th>\n",
       "    </tr>\n",
       "  </thead>\n",
       "  <tbody>\n",
       "    <tr>\n",
       "      <th>0</th>\n",
       "      <td>Africa</td>\n",
       "      <td>478.281987</td>\n",
       "    </tr>\n",
       "    <tr>\n",
       "      <th>1</th>\n",
       "      <td>Asia</td>\n",
       "      <td>503.220716</td>\n",
       "    </tr>\n",
       "    <tr>\n",
       "      <th>2</th>\n",
       "      <td>Central America</td>\n",
       "      <td>699.457126</td>\n",
       "    </tr>\n",
       "    <tr>\n",
       "      <th>3</th>\n",
       "      <td>Eastern Europe</td>\n",
       "      <td>1556.299520</td>\n",
       "    </tr>\n",
       "    <tr>\n",
       "      <th>4</th>\n",
       "      <td>Middle East</td>\n",
       "      <td>1368.068599</td>\n",
       "    </tr>\n",
       "  </tbody>\n",
       "</table>\n",
       "</div>"
      ],
      "text/plain": [
       "            region  loan_amount\n",
       "0           Africa   478.281987\n",
       "1             Asia   503.220716\n",
       "2  Central America   699.457126\n",
       "3   Eastern Europe  1556.299520\n",
       "4      Middle East  1368.068599"
      ]
     },
     "execution_count": 17,
     "metadata": {},
     "output_type": "execute_result"
    }
   ],
   "source": [
    "region_avg.head()"
   ]
  },
  {
   "cell_type": "code",
   "execution_count": 20,
   "metadata": {},
   "outputs": [
    {
     "data": {
      "text/html": [
       "<iframe id=\"igraph\" scrolling=\"no\" style=\"border:none;\" seamless=\"seamless\" src=\"https://plot.ly/~ktollas/73.embed\" height=\"525px\" width=\"100%\"></iframe>"
      ],
      "text/plain": [
       "<plotly.tools.PlotlyDisplay object>"
      ]
     },
     "execution_count": 20,
     "metadata": {},
     "output_type": "execute_result"
    }
   ],
   "source": [
    "data = [go.Scatterpolar(\n",
    "  r = region_avg['loan_amount'],\n",
    "  theta = region_avg['region'],\n",
    "  fill = 'toself'\n",
    ")]\n",
    "\n",
    "layout = go.Layout(\n",
    "  polar = dict(\n",
    "    radialaxis = dict(\n",
    "      visible = True,\n",
    "      range = [0, region_avg['loan_amount'].max()]\n",
    "    )\n",
    "  ),\n",
    "  showlegend = False\n",
    ")\n",
    "\n",
    "fig = go.Figure(data=data, layout=layout)\n",
    "py.iplot(fig, filename = \"radar_basic\")"
   ]
  },
  {
   "cell_type": "code",
   "execution_count": null,
   "metadata": {
    "collapsed": true
   },
   "outputs": [],
   "source": []
  }
 ],
 "metadata": {
  "kernelspec": {
   "display_name": "Python 3",
   "language": "python",
   "name": "python3"
  },
  "language_info": {
   "codemirror_mode": {
    "name": "ipython",
    "version": 3
   },
   "file_extension": ".py",
   "mimetype": "text/x-python",
   "name": "python",
   "nbconvert_exporter": "python",
   "pygments_lexer": "ipython3",
   "version": "3.6.5"
  }
 },
 "nbformat": 4,
 "nbformat_minor": 2
}
