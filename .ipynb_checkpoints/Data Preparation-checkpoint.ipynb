{
 "cells": [
  {
   "cell_type": "markdown",
   "metadata": {},
   "source": [
    "## Data Preprocessing\n",
    "\n",
    "Using `loans.csv` from http://s3.kiva.org/snapshots/kiva_ds_csv.zip (found at http://build.kiva.org)\n",
    "\n",
    "Only want after 2010. \n",
    "\n",
    "** Features ** \n",
    "\n",
    "- `loan_amount` \n",
    "- `status`: loans that are funded or expired\n",
    "- `sector`\n",
    "- `country_name`\n",
    "- `borrower_genders`\n",
    "\n",
    "Writes the final dataframe as `../loans_mini.csv`"
   ]
  },
  {
   "cell_type": "code",
   "execution_count": 1,
   "metadata": {
    "collapsed": true
   },
   "outputs": [],
   "source": [
    "import pandas as pd\n",
    "from collections import Counter"
   ]
  },
  {
   "cell_type": "code",
   "execution_count": 2,
   "metadata": {
    "collapsed": true
   },
   "outputs": [],
   "source": [
    "LOANS = pd.read_csv('../loans.csv', parse_dates = ['posted_time'])"
   ]
  },
  {
   "cell_type": "code",
   "execution_count": 3,
   "metadata": {},
   "outputs": [
    {
     "name": "stdout",
     "output_type": "stream",
     "text": [
      "first loan: 2010-01-01 00:26:40\n"
     ]
    }
   ],
   "source": [
    "loans = LOANS[LOANS['posted_time'].dt.year >= 2010].copy()\n",
    "loans.sort_values('posted_time', inplace=True)\n",
    "print('first loan: {}'.format(loans['posted_time'].min()))\n",
    "loans = loans[['borrower_genders', 'loan_amount', 'sector', 'country_name', 'status']]  # cols\n",
    "loans = loans[(loans['status'] == 'funded') | (loans['status'] == 'expired')]  # rows\n",
    "loans.dropna(subset=['borrower_genders'], inplace=True)  # not interested in rows where gender is missing\n",
    "loans.reset_index(drop=True,inplace=True)"
   ]
  },
  {
   "cell_type": "code",
   "execution_count": 4,
   "metadata": {
    "collapsed": true
   },
   "outputs": [],
   "source": [
    "def genders_groups(x):\n",
    "    x = x.split(', ')\n",
    "    if len(x) == 1:\n",
    "        return x[0]\n",
    "    else:\n",
    "        genders = Counter(x).keys()\n",
    "        if 'female' in genders and 'male' not in genders:\n",
    "            return 'female_group'\n",
    "        elif 'female' in genders and 'male' in genders:\n",
    "            return 'mixed_group'\n",
    "        else:\n",
    "            return 'male_group'"
   ]
  },
  {
   "cell_type": "code",
   "execution_count": 5,
   "metadata": {
    "collapsed": true
   },
   "outputs": [],
   "source": [
    "loans['gender_group'] = loans['borrower_genders'].map(genders_groups)\n",
    "loans.drop('borrower_genders', axis=1, inplace=True)\n",
    "loans.to_csv('../loans_mini.csv', index=False)"
   ]
  },
  {
   "cell_type": "code",
   "execution_count": 7,
   "metadata": {
    "collapsed": true
   },
   "outputs": [],
   "source": []
  },
  {
   "cell_type": "code",
   "execution_count": null,
   "metadata": {
    "collapsed": true
   },
   "outputs": [],
   "source": []
  },
  {
   "cell_type": "code",
   "execution_count": null,
   "metadata": {
    "collapsed": true
   },
   "outputs": [],
   "source": []
  },
  {
   "cell_type": "code",
   "execution_count": null,
   "metadata": {
    "collapsed": true
   },
   "outputs": [],
   "source": []
  },
  {
   "cell_type": "code",
   "execution_count": null,
   "metadata": {
    "collapsed": true
   },
   "outputs": [],
   "source": []
  },
  {
   "cell_type": "code",
   "execution_count": null,
   "metadata": {
    "collapsed": true
   },
   "outputs": [],
   "source": []
  },
  {
   "cell_type": "code",
   "execution_count": null,
   "metadata": {
    "collapsed": true
   },
   "outputs": [],
   "source": []
  }
 ],
 "metadata": {
  "kernelspec": {
   "display_name": "Python 3",
   "language": "python",
   "name": "python3"
  },
  "language_info": {
   "codemirror_mode": {
    "name": "ipython",
    "version": 3
   },
   "file_extension": ".py",
   "mimetype": "text/x-python",
   "name": "python",
   "nbconvert_exporter": "python",
   "pygments_lexer": "ipython3",
   "version": "3.6.5"
  }
 },
 "nbformat": 4,
 "nbformat_minor": 2
}
